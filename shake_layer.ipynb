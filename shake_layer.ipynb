{
 "cells": [
  {
   "cell_type": "code",
   "execution_count": 1,
   "metadata": {
    "collapsed": false
   },
   "outputs": [
    {
     "name": "stderr",
     "output_type": "stream",
     "text": [
      "Using TensorFlow backend.\n"
     ]
    }
   ],
   "source": [
    "from __future__ import print_function\n",
    "\n",
    "import numpy as np\n",
    "import warnings\n",
    "\n",
    "from keras.layers import merge, Input, Lambda, Layer, RepeatVector,Merge\n",
    "from keras.layers import Dense, Activation, Flatten\n",
    "from keras.layers import Convolution2D, MaxPooling2D, ZeroPadding2D, AveragePooling2D\n",
    "from keras.layers import BatchNormalization\n",
    "from keras.models import Model, Sequential\n",
    "from keras.preprocessing import image\n",
    "import keras.backend as K\n",
    "from keras.utils.layer_utils import convert_all_kernels_in_model\n",
    "from keras.utils.data_utils import get_file\n",
    "\n"
   ]
  },
  {
   "cell_type": "code",
   "execution_count": 22,
   "metadata": {
    "collapsed": true
   },
   "outputs": [],
   "source": [
    "\n",
    "def shakemerge(x1,x2):\n",
    "    def mul(xa):\n",
    "        return xa[0] * xa[1]\n",
    "    def mul_shape(xa_shape):\n",
    "        return xa_shape[0]\n",
    "    batch_size = K.shape(x1)[0]\n",
    "    #alpha = K.random_uniform((batch_size,1,1,1),0,1)\n",
    "    alpha = Lambda(lambda x:K.random_uniform((K.shape(x)[0],1,1,1), 0, 1))(x1)\n",
    "    x1a = merge([x1,alpha], mode=mul, output_shape=mul_shape)\n",
    "    x2a = merge([x2,1-alpha], mode=mul, output_shape=mul_shape)\n",
    "    return merge([x1a,x2a], mode='sum')\n",
    "    \n"
   ]
  },
  {
   "cell_type": "code",
   "execution_count": 23,
   "metadata": {
    "collapsed": false
   },
   "outputs": [
    {
     "ename": "TypeError",
     "evalue": "Output tensors to a Model must be Keras tensors. Found: Tensor(\"add_3:0\", shape=(?, 3, 5, 5), dtype=float32)",
     "output_type": "error",
     "traceback": [
      "\u001b[0;31m---------------------------------------------------------------------------\u001b[0m",
      "\u001b[0;31mTypeError\u001b[0m                                 Traceback (most recent call last)",
      "\u001b[0;32m<ipython-input-23-c261bb1c3772>\u001b[0m in \u001b[0;36m<module>\u001b[0;34m()\u001b[0m\n\u001b[1;32m      2\u001b[0m \u001b[0mx2\u001b[0m \u001b[0;34m=\u001b[0m \u001b[0mInput\u001b[0m\u001b[0;34m(\u001b[0m\u001b[0mshape\u001b[0m\u001b[0;34m=\u001b[0m\u001b[0;34m(\u001b[0m\u001b[0;36m3\u001b[0m\u001b[0;34m,\u001b[0m\u001b[0;36m5\u001b[0m\u001b[0;34m,\u001b[0m\u001b[0;36m5\u001b[0m\u001b[0;34m,\u001b[0m\u001b[0;34m)\u001b[0m\u001b[0;34m)\u001b[0m\u001b[0;34m\u001b[0m\u001b[0m\n\u001b[1;32m      3\u001b[0m \u001b[0mout\u001b[0m \u001b[0;34m=\u001b[0m \u001b[0mshakemerge\u001b[0m\u001b[0;34m(\u001b[0m\u001b[0mx1\u001b[0m\u001b[0;34m,\u001b[0m\u001b[0mx2\u001b[0m\u001b[0;34m)\u001b[0m\u001b[0;34m\u001b[0m\u001b[0m\n\u001b[0;32m----> 4\u001b[0;31m \u001b[0mmodel1\u001b[0m \u001b[0;34m=\u001b[0m \u001b[0mModel\u001b[0m\u001b[0;34m(\u001b[0m\u001b[0;34m[\u001b[0m\u001b[0mx1\u001b[0m\u001b[0;34m,\u001b[0m\u001b[0mx2\u001b[0m\u001b[0;34m]\u001b[0m\u001b[0;34m,\u001b[0m \u001b[0mout\u001b[0m\u001b[0;34m)\u001b[0m\u001b[0;34m\u001b[0m\u001b[0m\n\u001b[0m",
      "\u001b[0;32m/home/arun/py/tf3.5/lib/python3.5/site-packages/keras/engine/topology.py\u001b[0m in \u001b[0;36m__init__\u001b[0;34m(self, input, output, name)\u001b[0m\n\u001b[1;32m   1814\u001b[0m                 \u001b[0mcls_name\u001b[0m \u001b[0;34m=\u001b[0m \u001b[0mself\u001b[0m\u001b[0;34m.\u001b[0m\u001b[0m__class__\u001b[0m\u001b[0;34m.\u001b[0m\u001b[0m__name__\u001b[0m\u001b[0;34m\u001b[0m\u001b[0m\n\u001b[1;32m   1815\u001b[0m                 raise TypeError('Output tensors to a ' + cls_name + ' must be '\n\u001b[0;32m-> 1816\u001b[0;31m                                 'Keras tensors. Found: ' + str(x))\n\u001b[0m\u001b[1;32m   1817\u001b[0m         \u001b[0;31m# Build self.output_layers:\u001b[0m\u001b[0;34m\u001b[0m\u001b[0;34m\u001b[0m\u001b[0m\n\u001b[1;32m   1818\u001b[0m         \u001b[0;32mfor\u001b[0m \u001b[0mx\u001b[0m \u001b[0;32min\u001b[0m \u001b[0mself\u001b[0m\u001b[0;34m.\u001b[0m\u001b[0moutputs\u001b[0m\u001b[0;34m:\u001b[0m\u001b[0;34m\u001b[0m\u001b[0m\n",
      "\u001b[0;31mTypeError\u001b[0m: Output tensors to a Model must be Keras tensors. Found: Tensor(\"add_3:0\", shape=(?, 3, 5, 5), dtype=float32)"
     ]
    }
   ],
   "source": [
    "x1 = Input(shape=(3,5,5,))\n",
    "x2 = Input(shape=(3,5,5,))\n",
    "out = shakemerge(x1,x2)\n",
    "model1 = Model([x1,x2], out)"
   ]
  },
  {
   "cell_type": "code",
   "execution_count": 12,
   "metadata": {
    "collapsed": false
   },
   "outputs": [
    {
     "data": {
      "text/plain": [
       "<tf.Tensor 'add_2:0' shape=(?, 3, 5, 5) dtype=float32>"
      ]
     },
     "execution_count": 12,
     "metadata": {},
     "output_type": "execute_result"
    }
   ],
   "source": [
    "out"
   ]
  },
  {
   "cell_type": "code",
   "execution_count": 37,
   "metadata": {
    "collapsed": false
   },
   "outputs": [],
   "source": [
    "def asum(x1,x2):\n",
    "    def mul(xa):\n",
    "        return xa[0] * xa[1]\n",
    "    def mul_shape(xa_shape):\n",
    "        return xa_shape[0]\n",
    "    alpha = Lambda(lambda x:K.random_uniform((K.shape(x)[0],1,1), 0, 1))(x1)\n",
    "    xa1 = merge([x1,alpha], mode=mul, output_shape=mul_shape)\n",
    "    xa2 = merge([x2,alpha], mode=mul, output_shape=mul_shape)\n",
    "    xa12 = merge([xa1,xa2], mode='sum')\n",
    "    return xa12\n",
    "\n",
    "\n",
    "x1 = Input(shape=(3,5,))\n",
    "x2 = Input(shape=(3,5,))\n",
    "xa12 = asum(x1,x2)\n",
    "model = Model([x1,x2], xa12)"
   ]
  },
  {
   "cell_type": "code",
   "execution_count": 38,
   "metadata": {
    "collapsed": false
   },
   "outputs": [
    {
     "data": {
      "text/plain": [
       "array([[[ 4.65165329,  4.65165329,  4.65165329,  4.65165329,  4.65165329],\n",
       "        [ 4.65165329,  4.65165329,  4.65165329,  4.65165329,  4.65165329],\n",
       "        [ 4.65165329,  4.65165329,  4.65165329,  4.65165329,  4.65165329]],\n",
       "\n",
       "       [[ 0.61420619,  0.61420619,  0.61420619,  0.61420619,  0.61420619],\n",
       "        [ 0.61420619,  0.61420619,  0.61420619,  0.61420619,  0.61420619],\n",
       "        [ 0.61420619,  0.61420619,  0.61420619,  0.61420619,  0.61420619]],\n",
       "\n",
       "       [[ 0.78121781,  0.78121781,  0.78121781,  0.78121781,  0.78121781],\n",
       "        [ 0.78121781,  0.78121781,  0.78121781,  0.78121781,  0.78121781],\n",
       "        [ 0.78121781,  0.78121781,  0.78121781,  0.78121781,  0.78121781]],\n",
       "\n",
       "       [[ 4.92272615,  4.92272615,  4.92272615,  4.92272615,  4.92272615],\n",
       "        [ 4.92272615,  4.92272615,  4.92272615,  4.92272615,  4.92272615],\n",
       "        [ 4.92272615,  4.92272615,  4.92272615,  4.92272615,  4.92272615]]], dtype=float32)"
      ]
     },
     "execution_count": 38,
     "metadata": {},
     "output_type": "execute_result"
    }
   ],
   "source": [
    "X1 = np.ones((4,3,5))\n",
    "X2 = 4* np.ones((4,3,5))\n",
    "model.predict([X1,X2])"
   ]
  },
  {
   "cell_type": "code",
   "execution_count": null,
   "metadata": {
    "collapsed": false
   },
   "outputs": [],
   "source": [
    "x1 = Input(shape=(15,200,))\n",
    "x2 = Input(shape=(15,))\n",
    "x12 = K.dot(x1,x2)\n",
    "#model1 = Model([x1,x2], x12)"
   ]
  },
  {
   "cell_type": "code",
   "execution_count": null,
   "metadata": {
    "collapsed": false
   },
   "outputs": [],
   "source": [
    "x1"
   ]
  },
  {
   "cell_type": "code",
   "execution_count": null,
   "metadata": {
    "collapsed": false
   },
   "outputs": [],
   "source": [
    "x"
   ]
  },
  {
   "cell_type": "code",
   "execution_count": null,
   "metadata": {
    "collapsed": false
   },
   "outputs": [],
   "source": [
    "input_layer = Input(shape=(5,5,))\n",
    "x = input_layer\n",
    "s0 = K.shape(x)[0]\n",
    "s1 = 5\n",
    "s2 = 5\n",
    "r = Lambda(lambda x:K.random_uniform((s0,1,1), 0, 1))(x)\n",
    "r = Lambda(lambda x:K.repeat_elements(x,s1,axis=1))(r)\n",
    "r = Lambda(lambda x:K.repeat_elements(x,s2,axis=2))(r)\n",
    "xr = merge([x,r],mode='mul')\n",
    "model1 = Model(input_layer, xr)"
   ]
  },
  {
   "cell_type": "code",
   "execution_count": null,
   "metadata": {
    "collapsed": false
   },
   "outputs": [],
   "source": [
    "s1"
   ]
  },
  {
   "cell_type": "code",
   "execution_count": null,
   "metadata": {
    "collapsed": true
   },
   "outputs": [],
   "source": [
    "model2 = Model(input_layer, r)"
   ]
  },
  {
   "cell_type": "code",
   "execution_count": null,
   "metadata": {
    "collapsed": false,
    "scrolled": false
   },
   "outputs": [],
   "source": [
    "X = np.random.random((4,5,5))\n",
    "model2.predict(X)"
   ]
  },
  {
   "cell_type": "code",
   "execution_count": null,
   "metadata": {
    "collapsed": true
   },
   "outputs": [],
   "source": [
    "input_layer = Input(shape=(5,5,))"
   ]
  },
  {
   "cell_type": "code",
   "execution_count": null,
   "metadata": {
    "collapsed": false
   },
   "outputs": [],
   "source": [
    " Lambda(lambda x:K.random_uniform((K.shape(x)[0],1), 0, 1))(x)"
   ]
  },
  {
   "cell_type": "code",
   "execution_count": null,
   "metadata": {
    "collapsed": false,
    "scrolled": false
   },
   "outputs": [],
   "source": [
    "input_layer = Input(shape=(5,5,))\n",
    "x = Lambda(lambda x:K.batch_flatten(x))(input_layer)\n",
    "r = Lambda(lambda x:K.random_uniform((K.shape(x)[0],), 0, 1))(x)\n",
    "r = Lambda(lambda x:K.expand_dims(x,dim=1))(r)\n",
    "r = RepeatVector(5)(r)\n",
    "\n",
    "y = Lambda(lambda x:x * r)(input_layer)"
   ]
  },
  {
   "cell_type": "code",
   "execution_count": null,
   "metadata": {
    "collapsed": false
   },
   "outputs": [],
   "source": [
    "input_layer"
   ]
  },
  {
   "cell_type": "code",
   "execution_count": null,
   "metadata": {
    "collapsed": false
   },
   "outputs": [],
   "source": [
    "y"
   ]
  },
  {
   "cell_type": "code",
   "execution_count": null,
   "metadata": {
    "collapsed": false
   },
   "outputs": [],
   "source": [
    "model1 = Model(input_layer, r)"
   ]
  },
  {
   "cell_type": "code",
   "execution_count": null,
   "metadata": {
    "collapsed": false
   },
   "outputs": [],
   "source": [
    "X = np.random.random((4,5,5))"
   ]
  },
  {
   "cell_type": "code",
   "execution_count": null,
   "metadata": {
    "collapsed": false,
    "scrolled": false
   },
   "outputs": [],
   "source": [
    "model1.predict(X)"
   ]
  },
  {
   "cell_type": "code",
   "execution_count": null,
   "metadata": {
    "collapsed": false
   },
   "outputs": [],
   "source": [
    "input_layer = Input(shape=(5,))\n",
    "x1 = Dense(32)(input_layer)\n",
    "x1 = Dense(3)(x1)\n",
    "x2 = Dense(32)(input_layer)\n",
    "x2 = Dense(3)(x2)\n",
    "alpha = K.random_uniform((1,1),0,1)[0]\n",
    "#alpha = K.reshape(alpha, K.shape(x1))\n",
    "y1 = (Lambda(lambda x:x*alpha ))(x1)\n",
    "y2 = (Lambda(lambda x:x*(1-alpha) ))(x2)\n",
    "y = merge([y1,y2], mode='sum')"
   ]
  },
  {
   "cell_type": "code",
   "execution_count": null,
   "metadata": {
    "collapsed": false
   },
   "outputs": [],
   "source": [
    "model1 = Model(input_layer, y)"
   ]
  },
  {
   "cell_type": "code",
   "execution_count": null,
   "metadata": {
    "collapsed": true
   },
   "outputs": [],
   "source": [
    "X = np.random.random((4,5))"
   ]
  },
  {
   "cell_type": "code",
   "execution_count": null,
   "metadata": {
    "collapsed": false
   },
   "outputs": [],
   "source": [
    "Y1 = model1.predict(X)"
   ]
  },
  {
   "cell_type": "code",
   "execution_count": null,
   "metadata": {
    "collapsed": false
   },
   "outputs": [],
   "source": [
    "Y1"
   ]
  },
  {
   "cell_type": "code",
   "execution_count": null,
   "metadata": {
    "collapsed": false
   },
   "outputs": [],
   "source": [
    "class RandomAffine(Layer):\n",
    "\n",
    "    def __init__(self, **kwargs):\n",
    "        super(RandomAffine, self).__init__(**kwargs)\n",
    "\n",
    "    def call(self, inputs, mask=None):\n",
    "        x,y = inputs[0],inputs[1]\n",
    "        alpha = K.random_normal(K.shape(x),0,1)\n",
    "        return alpha * x + (1-alpha) * y\n"
   ]
  },
  {
   "cell_type": "code",
   "execution_count": null,
   "metadata": {
    "collapsed": true
   },
   "outputs": [],
   "source": [
    "input_layer = Input(shape=(5,))\n",
    "x1 = Dense(32)(input_layer)\n",
    "x1 = Dense(3)(x1)\n",
    "x2 = Dense(32)(input_layer)\n",
    "x2 = Dense(3)(x2)\n",
    "alpha = K.random_uniform(K.shape(x1),0,1)"
   ]
  },
  {
   "cell_type": "code",
   "execution_count": null,
   "metadata": {
    "collapsed": false
   },
   "outputs": [],
   "source": [
    "K.sum(x2,axis=-1)"
   ]
  },
  {
   "cell_type": "code",
   "execution_count": null,
   "metadata": {
    "collapsed": false
   },
   "outputs": [],
   "source": [
    "K.sum(x2)"
   ]
  },
  {
   "cell_type": "code",
   "execution_count": null,
   "metadata": {
    "collapsed": false
   },
   "outputs": [],
   "source": [
    "alpha"
   ]
  },
  {
   "cell_type": "code",
   "execution_count": null,
   "metadata": {
    "collapsed": false
   },
   "outputs": [],
   "source": [
    "model1 = Model(input_layer, alpha)"
   ]
  },
  {
   "cell_type": "code",
   "execution_count": null,
   "metadata": {
    "collapsed": true
   },
   "outputs": [],
   "source": []
  }
 ],
 "metadata": {
  "kernelspec": {
   "display_name": "py3",
   "language": "python",
   "name": "py3"
  },
  "language_info": {
   "codemirror_mode": {
    "name": "ipython",
    "version": 3
   },
   "file_extension": ".py",
   "mimetype": "text/x-python",
   "name": "python",
   "nbconvert_exporter": "python",
   "pygments_lexer": "ipython3",
   "version": "3.5.2"
  }
 },
 "nbformat": 4,
 "nbformat_minor": 1
}
